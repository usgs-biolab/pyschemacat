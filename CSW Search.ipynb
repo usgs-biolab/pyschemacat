{
 "cells": [
  {
   "cell_type": "markdown",
   "metadata": {},
   "source": [
    "However we go about the task of building a customized map catalog from records in a metadata catalog, we need some way of querying the source catalog for items of interest. In keeping with our stated design principle to push the open standards, using the Open Geospatial Consortium Catalog Service for Web standard seems like it will be our best route to follow that principle.\n",
    "\n",
    "## Why the SDC won't work right now\n",
    "In many ways, the USGS Science Data Catalog would be our conceptual starting point for our particular purpose. That catalog at data.usgs.gov is nominally the curated master inventory of USGS data. It is in the same architecture space as similar systems at data.noaa.gov and data.nasa.gov from our sister earth science agencies. It is what we use to serve data to data.doi.gov at our parent agency level and data.gov for the US government data presence as a whole. Notionally, we should be able to query the SDC and find well curated metadata for our use case of the high level data assets for a given organizational unit.\n",
    "\n",
    "However, there are some distinct blockers in the current situation with the SDC:\n",
    "\n",
    "1. The only machine interface to the SDC currently is a custom REST API based on the underlying Solr query parameters. That interface returns a custom schema from the search index. This means we don't have something standard to build against like a CSW interface.\n",
    "2. There is no notion of a landing page for individual records from the SDC, meaning that there is no place for schema.org in the architecture to be implemented. Metadata records from search results are rendered inline to the web application and provided to downstream aggregators (doi.data.gov and data.gov) via Web Accessible Folders with XML metadata files.\n",
    "3. Many of the metadata records we want to use for our exercise use case are only partial records at the SDC discovery point because of how the SDC interfaces with ScienceBase. The SDC contains the \"original metadata\" for ScienceBase Repository items by design. This is the original FGDC CSDGM XML document that was loaded to the ScienceBase Item, and in most cases, these will not contain the distribution links created for services provided by the ScienceBase infrastructure - the exact links that we need to use for determining what's mappable and building our custom catalog.\n",
    "\n",
    "These blockers could be resolved in future, and we can hopefully inform those developments with requirements from this work."
   ]
  },
  {
   "cell_type": "code",
   "execution_count": 1,
   "metadata": {},
   "outputs": [],
   "source": [
    "from owslib.csw import CatalogueServiceWeb\n",
    "from owslib.fes import PropertyIsEqualTo, PropertyIsLike"
   ]
  },
  {
   "cell_type": "markdown",
   "metadata": {},
   "source": [
    "## Powering with ScienceBase\n",
    "It's not that ScienceBase is a bad choice as our starting point. The only reason I looked first to SDC and Data.gov is that the higher level catalogs make a little more sense for building a generalized toolset. Most of the data assets we want to use are cataloged in ScienceBase, and the ones missing can be added fairly readily. The ScienceBase Catalog offers a CSW interface that is fairly customized and a bit older in terms of its architecture, but it is still functional.\n",
    "\n",
    "The following codeblocks run through a rudimentary start to a query pattern using OWSLib. We'll need to fiddle with this further to see if we can and should attempt to use sb:servicetype as a pre-filter on the query or incorporate that into later processing logic. I'm not yet sure how to combine query constraints like that into logical OR statements using OWSLib.\n",
    "\n",
    "Obviously, if we can get all the properties we need to use to build our customized map catalog, it potentially obviates the whole part of this associated with schema.org embedded information in landing pages. Why would we query yet another source in such an awkward manner as what amounts to web scraping, when we have an API like CSW that gives us complete records? That is a fair point that I think we'll need to work through. I will say that the trajectory of schema.org dataset seems like it is clarifying a few things at a more simple level in terms of the types of metadata elements we really need to drive a use case like we are pursuing here. After struggling through the \"robustness\" of CSW and the ISO19139 metadata schema, I'm inclined toward something a bit more straightforward and less prone to the different interpretations that we already see in the couple of interface cases pursued here.\n",
    "\n",
    "There is lots of work going on with mappings between different metadata schemas these days, and one approach might be to use schema.org dataset as our common denominator. We can leverage a mapping from ISO19139 to schema.org to generate a JSON-LD representation of the information we need in our catalog, and then build the catalog from that form. In future, we might be able to get that JSON-LD directly from another source, and providing a utility that takes an ISO XML record as input and spits out schema.org JSON-LD might be useful to others anyway (if it doesn't already exist somewhere)."
   ]
  },
  {
   "cell_type": "code",
   "execution_count": 2,
   "metadata": {},
   "outputs": [
    {
     "name": "stdout",
     "output_type": "stream",
     "text": [
      "CPU times: user 19.3 ms, sys: 6.43 ms, total: 25.8 ms\n",
      "Wall time: 46.2 ms\n"
     ]
    }
   ],
   "source": [
    "%%time\n",
    "sb_csw = CatalogueServiceWeb('https://www.sciencebase.gov/catalog/csw')"
   ]
  },
  {
   "cell_type": "code",
   "execution_count": 3,
   "metadata": {},
   "outputs": [],
   "source": [
    "drl_query = PropertyIsEqualTo('sb:collection', '5644f3c1e4b0aafbcd0188f1')\n",
    "wms_query = PropertyIsEqualTo('sb:servicetype', 'OGC-WMS')"
   ]
  },
  {
   "cell_type": "code",
   "execution_count": 4,
   "metadata": {},
   "outputs": [
    {
     "name": "stdout",
     "output_type": "stream",
     "text": [
      "CPU times: user 121 ms, sys: 44.8 ms, total: 166 ms\n",
      "Wall time: 512 ms\n"
     ]
    },
    {
     "name": "stderr",
     "output_type": "stream",
     "text": [
      "/Users/sbristol/anaconda3/envs/pyschemacat/lib/python3.7/site-packages/owslib/iso.py:117: FutureWarning: the .identification and .serviceidentification properties will merge into .identification being a list of properties.  This is currently implemented in .identificationinfo.  Please see https://github.com/geopython/OWSLib/issues/38 for more information\n",
      "  FutureWarning)\n",
      "/Users/sbristol/anaconda3/envs/pyschemacat/lib/python3.7/site-packages/owslib/iso.py:495: FutureWarning: The .keywords and .keywords2 properties will merge into the .keywords property in the future, with .keywords becoming a list of MD_Keywords instances. This is currently implemented in .keywords2. Please see https://github.com/geopython/OWSLib/issues/301 for more information\n",
      "  FutureWarning)\n"
     ]
    }
   ],
   "source": [
    "%%time\n",
    "sb_csw.getrecords2(\n",
    "    constraints=[drl_query, wms_query], \n",
    "    maxrecords=20, \n",
    "    outputschema='http://www.isotc211.org/2005/gmd'\n",
    ")"
   ]
  },
  {
   "cell_type": "code",
   "execution_count": 5,
   "metadata": {
    "scrolled": true
   },
   "outputs": [
    {
     "data": {
      "text/plain": [
       "{'matches': 1848, 'returned': 20, 'nextrecord': 21}"
      ]
     },
     "execution_count": 5,
     "metadata": {},
     "output_type": "execute_result"
    }
   ],
   "source": [
    "sb_csw.results"
   ]
  },
  {
   "cell_type": "code",
   "execution_count": 6,
   "metadata": {},
   "outputs": [
    {
     "name": "stdout",
     "output_type": "stream",
     "text": [
      "https://www.sciencebase.gov/catalog/item/59f5e22de4b063d5d307dd19\n",
      "Yellow-bellied Flycatcher (Empidonax flaviventris) bYBFLx_CONUS_2001v1 Range Map\n",
      "This dataset represents a species known range extent for Yellow-bellied Flycatcher (Empidonax flaviventris) within the conterminous United States (CONUS) based on 2001 ground conditions. This range map was created by attributing sub-watershed polygons with information of a species' presence, origin, seasonal and reproductive use. See <a href=\"https://www.sciencebase.gov/catalog/item/5951527de4b062508e3b1e79\">Gap Analysis Project Species Range Maps</a> for more information regarding data creation and user constraints. For species specific range information, see the attached Range data.\n",
      "2019-02-07T17:55:18Z\n",
      "Matt Rubino pointOfContact None None\n",
      "Jeff Lonneker pointOfContact None None\n",
      "2018-07 Publication Date\n",
      "2008 Start Date\n",
      "2013 End Date\n",
      "https://www.sciencebase.gov/geoserver/CONUS_Range_2001/wms?service=WMS&version=1.1.0&request=GetCapabilities\n",
      "=======\n",
      "https://www.sciencebase.gov/catalog/item/59f5e247e4b063d5d307dda9\n",
      "Elf Owl (Micrathene whitneyi) bELOWx_CONUS_2001v1 Range Map\n",
      "This dataset represents a species known range extent for Elf Owl (Micrathene whitneyi) within the conterminous United States (CONUS) based on 2001 ground conditions. This range map was created by attributing sub-watershed polygons with information of a species' presence, origin, seasonal and reproductive use. See <a href=\"https://www.sciencebase.gov/catalog/item/5951527de4b062508e3b1e79\">Gap Analysis Project Species Range Maps</a> for more information regarding data creation and user constraints. For species specific range information, see the attached Range data.\n",
      "2019-02-07T17:57:49Z\n",
      "Jeff Lonneker pointOfContact None None\n",
      "Adam Radel pointOfContact None None\n",
      "2018-07 Publication Date\n",
      "2008 Start Date\n",
      "2013 End Date\n",
      "https://www.sciencebase.gov/geoserver/CONUS_Range_2001/wms?service=WMS&version=1.1.0&request=GetCapabilities\n",
      "=======\n",
      "https://www.sciencebase.gov/catalog/item/59f5eb9de4b063d5d307dff5\n",
      "Pinon Deermouse (Peromyscus truei) mPIDEx_CONUS_2001v1 Range Map\n",
      "This dataset represents a species known range extent for Pinon Deermouse (Peromyscus truei) within the conterminous United States (CONUS) based on 2001 ground conditions. This range map was created by attributing sub-watershed polygons with information of a species' presence, origin, seasonal and reproductive use. See <a href=\"https://www.sciencebase.gov/catalog/item/5951527de4b062508e3b1e79\">Gap Analysis Project Species Range Maps</a> for more information regarding data creation and user constraints. For species specific range information, see the attached Range data.\n",
      "2019-02-07T17:57:42Z\n",
      "Jeff Lonneker pointOfContact None None\n",
      "Nathan Tarr pointOfContact None None\n",
      "2018-07 Publication Date\n",
      "2008 Start Date\n",
      "2016 End Date\n",
      "https://www.sciencebase.gov/geoserver/CONUS_Range_2001/wms?service=WMS&version=1.1.0&request=GetCapabilities\n",
      "=======\n",
      "https://www.sciencebase.gov/catalog/item/59f5e1e9e4b063d5d307db8f\n",
      "Star-nosed Mole (Condylura cristata) mSNMOx_CONUS_2001v1 Range Map\n",
      "This dataset represents a species known range extent for Star-nosed Mole (Condylura cristata) within the conterminous United States (CONUS) based on 2001 ground conditions. This range map was created by attributing sub-watershed polygons with information of a species' presence, origin, seasonal and reproductive use. See <a href=\"https://www.sciencebase.gov/catalog/item/5951527de4b062508e3b1e79\">Gap Analysis Project Species Range Maps</a> for more information regarding data creation and user constraints. For species specific range information, see the attached Range data.\n",
      "2019-02-07T17:57:42Z\n",
      "Nathan Tarr pointOfContact None None\n",
      "Matt Rubino pointOfContact None None\n",
      "2018-07 Publication Date\n",
      "2008 Start Date\n",
      "2015 End Date\n",
      "https://www.sciencebase.gov/geoserver/CONUS_Range_2001/wms?service=WMS&version=1.1.0&request=GetCapabilities\n",
      "=======\n",
      "https://www.sciencebase.gov/catalog/item/59f5e270e4b063d5d307de9f\n",
      "Pale Kangaroo Mouse (Microdipodops pallidus) mPKMOx_CONUS_2001v1 Range Map\n",
      "This dataset represents a species known range extent for Pale Kangaroo Mouse (Microdipodops pallidus) within the conterminous United States (CONUS) based on 2001 ground conditions. This range map was created by attributing sub-watershed polygons with information of a species' presence, origin, seasonal and reproductive use. See <a href=\"https://www.sciencebase.gov/catalog/item/5951527de4b062508e3b1e79\">Gap Analysis Project Species Range Maps</a> for more information regarding data creation and user constraints. For species specific range information, see the attached Range data.\n",
      "2019-02-07T17:58:06Z\n",
      "Jeff Lonneker pointOfContact None None\n",
      "Ken Boykin pointOfContact None None\n",
      "2018-07 Publication Date\n",
      "2008 Start Date\n",
      "2013 End Date\n",
      "https://www.sciencebase.gov/geoserver/CONUS_Range_2001/wms?service=WMS&version=1.1.0&request=GetCapabilities\n",
      "=======\n",
      "https://www.sciencebase.gov/catalog/item/59f5e256e4b063d5d307de0f\n",
      "Tipton Kangaroo Rat (Dipodomys nitratoides nitratoides) mSJKRn_CONUS_2001v1 Range Map\n",
      "This dataset represents a species known range extent for Tipton Kangaroo Rat (Dipodomys nitratoides nitratoides) within the conterminous United States (CONUS) based on 2001 ground conditions. This range map was created by attributing sub-watershed polygons with information of a species' presence, origin, seasonal and reproductive use. See <a href=\"https://www.sciencebase.gov/catalog/item/5951527de4b062508e3b1e79\">Gap Analysis Project Species Range Maps</a> for more information regarding data creation and user constraints. For species specific range information, see the attached Range data.\n",
      "2019-02-07T17:58:12Z\n",
      "Nathan Tarr pointOfContact None None\n",
      "Matt Rubino pointOfContact None None\n",
      "2018-07 Publication Date\n",
      "2008 Start Date\n",
      "2015 End Date\n",
      "https://www.sciencebase.gov/geoserver/CONUS_Range_2001/wms?service=WMS&version=1.1.0&request=GetCapabilities\n",
      "=======\n",
      "https://www.sciencebase.gov/catalog/item/59f5e27fe4b063d5d307def7\n",
      "Wilson's Phalarope (Phalaropus tricolor) bWIPHx_CONUS_2001v1 Range Map\n",
      "This dataset represents a species known range extent for Wilson's Phalarope (Phalaropus tricolor) within the conterminous United States (CONUS) based on 2001 ground conditions. This range map was created by attributing sub-watershed polygons with information of a species' presence, origin, seasonal and reproductive use. See <a href=\"https://www.sciencebase.gov/catalog/item/5951527de4b062508e3b1e79\">Gap Analysis Project Species Range Maps</a> for more information regarding data creation and user constraints. For species specific range information, see the attached Range data.\n",
      "2019-02-07T17:57:50Z\n",
      "Robert Adair pointOfContact None None\n",
      "Thomas Laxson pointOfContact None None\n",
      "2018-07 Publication Date\n",
      "2008 Start Date\n",
      "2013 End Date\n",
      "https://www.sciencebase.gov/geoserver/CONUS_Range_2001/wms?service=WMS&version=1.1.0&request=GetCapabilities\n",
      "=======\n",
      "https://www.sciencebase.gov/catalog/item/59f5ebcfe4b063d5d307e19f\n",
      "Smoky Shrew (Sorex fumeus) mSMSHx_CONUS_2001v1 Range Map\n",
      "This dataset represents a species known range extent for Smoky Shrew (Sorex fumeus) within the conterminous United States (CONUS) based on 2001 ground conditions. This range map was created by attributing sub-watershed polygons with information of a species' presence, origin, seasonal and reproductive use. See <a href=\"https://www.sciencebase.gov/catalog/item/5951527de4b062508e3b1e79\">Gap Analysis Project Species Range Maps</a> for more information regarding data creation and user constraints. For species specific range information, see the attached Range data.\n",
      "2019-02-07T17:57:51Z\n",
      "Matt Rubino pointOfContact None None\n",
      "Nathan Tarr pointOfContact None None\n",
      "2018-07 Publication Date\n",
      "2008 Start Date\n",
      "2014 End Date\n",
      "https://www.sciencebase.gov/geoserver/CONUS_Range_2001/wms?service=WMS&version=1.1.0&request=GetCapabilities\n",
      "=======\n",
      "https://www.sciencebase.gov/catalog/item/59f5ec4ce4b063d5d307e5d9\n",
      "Brewer's Blackbird (Euphagus cyanocephalus) bBRBLx_CONUS_2001v1 Range Map\n",
      "This dataset represents a species known range extent for Brewer's Blackbird (Euphagus cyanocephalus) within the conterminous United States (CONUS) based on 2001 ground conditions. This range map was created by attributing sub-watershed polygons with information of a species' presence, origin, seasonal and reproductive use. See <a href=\"https://www.sciencebase.gov/catalog/item/5951527de4b062508e3b1e79\">Gap Analysis Project Species Range Maps</a> for more information regarding data creation and user constraints. For species specific range information, see the attached Range data.\n",
      "2019-02-07T17:58:14Z\n",
      "Matt Rubino pointOfContact None None\n",
      "Adam Radel pointOfContact None None\n",
      "2018-07 Publication Date\n",
      "2008 Start Date\n",
      "2013 End Date\n",
      "https://www.sciencebase.gov/geoserver/CONUS_Range_2001/wms?service=WMS&version=1.1.0&request=GetCapabilities\n",
      "=======\n",
      "https://www.sciencebase.gov/catalog/item/59f5ebefe4b063d5d307e2b9\n",
      "Arizona Myotis (Myotis occultus) mARMYx_CONUS_2001v1 Range Map\n",
      "This dataset represents a species known range extent for Arizona Myotis (Myotis occultus) within the conterminous United States (CONUS) based on 2001 ground conditions. This range map was created by attributing sub-watershed polygons with information of a species' presence, origin, seasonal and reproductive use. See <a href=\"https://www.sciencebase.gov/catalog/item/5951527de4b062508e3b1e79\">Gap Analysis Project Species Range Maps</a> for more information regarding data creation and user constraints. For species specific range information, see the attached Range data.\n",
      "2019-02-07T17:57:34Z\n",
      "Jeff Lonneker pointOfContact None None\n",
      "Thomas Laxson pointOfContact None None\n",
      "2018-07 Publication Date\n",
      "2008 Start Date\n",
      "2013 End Date\n",
      "https://www.sciencebase.gov/geoserver/CONUS_Range_2001/wms?service=WMS&version=1.1.0&request=GetCapabilities\n",
      "=======\n",
      "https://www.sciencebase.gov/catalog/item/59f5ebc7e4b063d5d307e159\n",
      "Crissal Thrasher (Toxostoma crissale) bCRTHx_CONUS_2001v1 Range Map\n",
      "This dataset represents a species known range extent for Crissal Thrasher (Toxostoma crissale) within the conterminous United States (CONUS) based on 2001 ground conditions. This range map was created by attributing sub-watershed polygons with information of a species' presence, origin, seasonal and reproductive use. See <a href=\"https://www.sciencebase.gov/catalog/item/5951527de4b062508e3b1e79\">Gap Analysis Project Species Range Maps</a> for more information regarding data creation and user constraints. For species specific range information, see the attached Range data.\n",
      "2019-02-07T17:58:07Z\n",
      "Robert Adair pointOfContact None None\n",
      "Robert Adair pointOfContact None None\n",
      "2018-07 Publication Date\n",
      "2008 Start Date\n",
      "2013 End Date\n",
      "https://www.sciencebase.gov/geoserver/CONUS_Range_2001/wms?service=WMS&version=1.1.0&request=GetCapabilities\n",
      "=======\n",
      "https://www.sciencebase.gov/catalog/item/59f5e26ee4b063d5d307de93\n",
      "Glossy Ibis (Plegadis falcinellus) bGLIBx_CONUS_2001v1 Range Map\n",
      "This dataset represents a species known range extent for Glossy Ibis (Plegadis falcinellus) within the conterminous United States (CONUS) based on 2001 ground conditions. This range map was created by attributing sub-watershed polygons with information of a species' presence, origin, seasonal and reproductive use. See <a href=\"https://www.sciencebase.gov/catalog/item/5951527de4b062508e3b1e79\">Gap Analysis Project Species Range Maps</a> for more information regarding data creation and user constraints. For species specific range information, see the attached Range data.\n",
      "2019-02-07T17:58:17Z\n",
      "Jeff Lonneker pointOfContact None None\n",
      "Adam Radel pointOfContact None None\n",
      "2018-07 Publication Date\n",
      "2008 Start Date\n",
      "2013 End Date\n",
      "https://www.sciencebase.gov/geoserver/CONUS_Range_2001/wms?service=WMS&version=1.1.0&request=GetCapabilities\n",
      "=======\n",
      "https://www.sciencebase.gov/catalog/item/59f5e1cae4b063d5d307daed\n",
      "Brown Vinesnake (Oxybelis aeneus) rBRVIx_CONUS_2001v1 Range Map\n",
      "This dataset represents a species known range extent for Brown Vinesnake (Oxybelis aeneus) within the conterminous United States (CONUS) based on 2001 ground conditions. This range map was created by attributing sub-watershed polygons with information of a species' presence, origin, seasonal and reproductive use. See <a href=\"https://www.sciencebase.gov/catalog/item/5951527de4b062508e3b1e79\">Gap Analysis Project Species Range Maps</a> for more information regarding data creation and user constraints. For species specific range information, see the attached Range data.\n",
      "2019-02-07T17:57:43Z\n",
      "Jeff Lonneker pointOfContact None None\n",
      "Adam Radel pointOfContact None None\n",
      "2018-07 Publication Date\n",
      "2008 Start Date\n",
      "2013 End Date\n",
      "https://www.sciencebase.gov/geoserver/CONUS_Range_2001/wms?service=WMS&version=1.1.0&request=GetCapabilities\n",
      "=======\n",
      "https://www.sciencebase.gov/catalog/item/59f5e296e4b063d5d307df75\n",
      "Bell's Sage Sparrow (Amphispiza belli belli) bSAGSb_CONUS_2001v1 Range Map\n",
      "This dataset represents a species known range extent for Bell's Sage Sparrow (Amphispiza belli belli) within the conterminous United States (CONUS) based on 2001 ground conditions. This range map was created by attributing sub-watershed polygons with information of a species' presence, origin, seasonal and reproductive use. See <a href=\"https://www.sciencebase.gov/catalog/item/5951527de4b062508e3b1e79\">Gap Analysis Project Species Range Maps</a> for more information regarding data creation and user constraints. For species specific range information, see the attached Range data.\n",
      "2019-02-07T17:58:19Z\n",
      "Matt Rubino pointOfContact None None\n",
      "Adam Radel pointOfContact None None\n",
      "2018-07 Publication Date\n",
      "2008 Start Date\n",
      "2013 End Date\n",
      "https://www.sciencebase.gov/geoserver/CONUS_Range_2001/wms?service=WMS&version=1.1.0&request=GetCapabilities\n",
      "=======\n",
      "https://www.sciencebase.gov/catalog/item/59f5e226e4b063d5d307dceb\n",
      "House Mouse (Mus musculus) mHOMOx_CONUS_2001v1 Range Map\n",
      "This dataset represents a species known range extent for House Mouse (Mus musculus) within the conterminous United States (CONUS) based on 2001 ground conditions. This range map was created by attributing sub-watershed polygons with information of a species' presence, origin, seasonal and reproductive use. See <a href=\"https://www.sciencebase.gov/catalog/item/5951527de4b062508e3b1e79\">Gap Analysis Project Species Range Maps</a> for more information regarding data creation and user constraints. For species specific range information, see the attached Range data.\n",
      "2019-02-07T17:58:09Z\n",
      "Steve Williams pointOfContact None None\n",
      "Matt Rubino pointOfContact None None\n",
      "2018-07 Publication Date\n",
      "2008 Start Date\n",
      "2016 End Date\n",
      "https://www.sciencebase.gov/geoserver/CONUS_Range_2001/wms?service=WMS&version=1.1.0&request=GetCapabilities\n",
      "=======\n",
      "https://www.sciencebase.gov/catalog/item/59f5ec78e4b063d5d307e769\n",
      "Florida Crowned Snake (Tantilla relicta) rFCSNx_CONUS_2001v1 Range Map\n",
      "This dataset represents a species known range extent for Florida Crowned Snake (Tantilla relicta) within the conterminous United States (CONUS) based on 2001 ground conditions. This range map was created by attributing sub-watershed polygons with information of a species' presence, origin, seasonal and reproductive use. See <a href=\"https://www.sciencebase.gov/catalog/item/5951527de4b062508e3b1e79\">Gap Analysis Project Species Range Maps</a> for more information regarding data creation and user constraints. For species specific range information, see the attached Range data.\n",
      "2019-02-07T17:57:56Z\n",
      "Jeff Lonneker pointOfContact None None\n",
      "Adam Radel pointOfContact None None\n",
      "2018-07 Publication Date\n",
      "2008 Start Date\n",
      "2013 End Date\n",
      "https://www.sciencebase.gov/geoserver/CONUS_Range_2001/wms?service=WMS&version=1.1.0&request=GetCapabilities\n",
      "=======\n",
      "https://www.sciencebase.gov/catalog/item/59f5ebdee4b063d5d307e201\n",
      "Granite Night Lizard (Xantusia henshawi) rGNLIx_CONUS_2001v1 Range Map\n",
      "This dataset represents a species known range extent for Granite Night Lizard (Xantusia henshawi) within the conterminous United States (CONUS) based on 2001 ground conditions. This range map was created by attributing sub-watershed polygons with information of a species' presence, origin, seasonal and reproductive use. See <a href=\"https://www.sciencebase.gov/catalog/item/5951527de4b062508e3b1e79\">Gap Analysis Project Species Range Maps</a> for more information regarding data creation and user constraints. For species specific range information, see the attached Range data.\n",
      "2019-02-07T17:57:57Z\n",
      "Jeff Lonneker pointOfContact None None\n",
      "Ken Boykin pointOfContact None None\n",
      "2018-07 Publication Date\n",
      "2008 Start Date\n",
      "2013 End Date\n",
      "https://www.sciencebase.gov/geoserver/CONUS_Range_2001/wms?service=WMS&version=1.1.0&request=GetCapabilities\n",
      "=======\n",
      "https://www.sciencebase.gov/catalog/item/59f5ebc8e4b063d5d307e167\n",
      "Arizona Woodrat (Neotoma devia) mAZWOx_CONUS_2001v1 Range Map\n",
      "This dataset represents a species known range extent for Arizona Woodrat (Neotoma devia) within the conterminous United States (CONUS) based on 2001 ground conditions. This range map was created by attributing sub-watershed polygons with information of a species' presence, origin, seasonal and reproductive use. See <a href=\"https://www.sciencebase.gov/catalog/item/5951527de4b062508e3b1e79\">Gap Analysis Project Species Range Maps</a> for more information regarding data creation and user constraints. For species specific range information, see the attached Range data.\n",
      "2019-02-07T17:57:35Z\n",
      "Jeff Lonneker pointOfContact None None\n",
      "Ken Boykin pointOfContact None None\n",
      "2018-07 Publication Date\n",
      "2008 Start Date\n",
      "2013 End Date\n",
      "https://www.sciencebase.gov/geoserver/CONUS_Range_2001/wms?service=WMS&version=1.1.0&request=GetCapabilities\n",
      "=======\n",
      "https://www.sciencebase.gov/catalog/item/59f5ec16e4b063d5d307e40f\n",
      "Big-eared Woodrat (Neotoma macrotis) mBEWOx_CONUS_2001v1 Range Map\n",
      "This dataset represents a species known range extent for Big-eared Woodrat (Neotoma macrotis) within the conterminous United States (CONUS) based on 2001 ground conditions. This range map was created by attributing sub-watershed polygons with information of a species' presence, origin, seasonal and reproductive use. See <a href=\"https://www.sciencebase.gov/catalog/item/5951527de4b062508e3b1e79\">Gap Analysis Project Species Range Maps</a> for more information regarding data creation and user constraints. For species specific range information, see the attached Range data.\n",
      "2019-02-07T17:57:37Z\n",
      "Nathan Tarr pointOfContact None None\n",
      "Matt Rubino pointOfContact None None\n",
      "2018-07 Publication Date\n",
      "2008 Start Date\n",
      "2013 End Date\n",
      "https://www.sciencebase.gov/geoserver/CONUS_Range_2001/wms?service=WMS&version=1.1.0&request=GetCapabilities\n",
      "=======\n",
      "https://www.sciencebase.gov/catalog/item/59f5e222e4b063d5d307dcd5\n",
      "Animas Southern Pocket Gopher (Thomomys umbrinus emotus) mSPGOe_CONUS_2001v1 Range Map\n",
      "This dataset represents a species known range extent for Animas Southern Pocket Gopher (Thomomys umbrinus emotus) within the conterminous United States (CONUS) based on 2001 ground conditions. This range map was created by attributing sub-watershed polygons with information of a species' presence, origin, seasonal and reproductive use. See <a href=\"https://www.sciencebase.gov/catalog/item/5951527de4b062508e3b1e79\">Gap Analysis Project Species Range Maps</a> for more information regarding data creation and user constraints. For species specific range information, see the attached Range data.\n",
      "2019-02-07T17:57:53Z\n",
      "Matt Rubino pointOfContact None None\n",
      "Nathan Tarr pointOfContact None None\n",
      "2018-07 Publication Date\n",
      "2008 Start Date\n",
      "2015 End Date\n",
      "https://www.sciencebase.gov/geoserver/CONUS_Range_2001/wms?service=WMS&version=1.1.0&request=GetCapabilities\n",
      "=======\n"
     ]
    }
   ],
   "source": [
    "for r in sb_csw.records:\n",
    "    print(sb_csw.records[r].dataseturi)\n",
    "    print(sb_csw.records[r].identification.title)\n",
    "    print(sb_csw.records[r].identification.abstract)\n",
    "    print(sb_csw.records[r].datetimestamp)\n",
    "    \n",
    "    for c in sb_csw.records[r].contact:\n",
    "        print(c.name, c.role, c.organization, c.email)\n",
    "    \n",
    "    for d in sb_csw.records[r].identification.date:\n",
    "        print(d.date, d.type)\n",
    "        \n",
    "    for t in sb_csw.records[r].identification.keywords:\n",
    "        print(t.type, t.thesaurus, t.keywords)\n",
    "\n",
    "    wms_url = next((d.url for d in sb_csw.records[r].distribution.online if d.protocol == \"OGC:WMS\"), None)\n",
    "    print(wms_url)\n",
    "    \n",
    "    print(\"=======\")\n"
   ]
  },
  {
   "cell_type": "markdown",
   "metadata": {},
   "source": [
    "## Why Data.gov and data.doi.gov won't work right now\n",
    "We might also consider it reasonable that we could build our custom map catalog from one of the next two hierarchical government metadata aggregators \"above\" the USGS. However, it appears at this time that the pipelines from data.usgs.gov to these higher level aggregation points has been languishing. The DOI data catalog does not seem to be online or active at all at the moment. Data.gov seems a bit of a mess from the standpoint of trying to zero in on an organizational unit. USGS is not listed as a Bureau under the Department of the Interior at an Agency level. USGS is listed at the Agency level itself, but it only shows 54 datasets as of October 21, 2019. I had to do a little digging to find the Data.gov CSW end point (http://catalog.data.gov/csw-all). While it works relatively well, has more queryables and response formats, and is returning results faster than the ScienceBase CSW, without some indication that the records we want are in the catalog, there's not much point in pursuing it farther until those issues are resolved.\n",
    "\n",
    "The codeblocks below contain a brief look at the Data.gov CSW interface situation. I ran aground at the stage of teasing out exactly how Data.gov's ISO19139 rendering is sharing their distribution links and a few other attributes of interest."
   ]
  },
  {
   "cell_type": "code",
   "execution_count": 7,
   "metadata": {},
   "outputs": [
    {
     "name": "stdout",
     "output_type": "stream",
     "text": [
      "CPU times: user 37.5 ms, sys: 6.67 ms, total: 44.2 ms\n",
      "Wall time: 1.8 s\n"
     ]
    }
   ],
   "source": [
    "%%time\n",
    "dg_csw = CatalogueServiceWeb('http://catalog.data.gov/csw-all',timeout=60)"
   ]
  },
  {
   "cell_type": "code",
   "execution_count": 8,
   "metadata": {},
   "outputs": [
    {
     "data": {
      "text/plain": [
       "[Constraint: AdditionalQueryables - ['apiso:AccessConstraints', 'apiso:Classification', 'apiso:ConditionApplyingToAccessAndUse', 'apiso:Contributor', 'apiso:Creator', 'apiso:Degree', 'apiso:Lineage', 'apiso:OtherConstraints', 'apiso:Publisher', 'apiso:Relation', 'apiso:ResponsiblePartyRole', 'apiso:SpecificationDate', 'apiso:SpecificationDateType', 'apiso:SpecificationTitle'],\n",
       " Constraint: SupportedDublinCoreQueryables - ['csw:AnyText', 'dc:contributor', 'dc:creator', 'dc:date', 'dc:format', 'dc:identifier', 'dc:language', 'dc:publisher', 'dc:relation', 'dc:rights', 'dc:source', 'dc:subject', 'dc:title', 'dc:type', 'dct:abstract', 'dct:alternative', 'dct:modified', 'dct:spatial', 'ows:BoundingBox'],\n",
       " Constraint: SupportedISOQueryables - ['apiso:Abstract', 'apiso:AlternateTitle', 'apiso:AnyText', 'apiso:BoundingBox', 'apiso:CRS', 'apiso:CouplingType', 'apiso:CreationDate', 'apiso:Denominator', 'apiso:DistanceUOM', 'apiso:DistanceValue', 'apiso:Format', 'apiso:GeographicDescriptionCode', 'apiso:HasSecurityConstraints', 'apiso:Identifier', 'apiso:KeywordType', 'apiso:Language', 'apiso:Modified', 'apiso:OperatesOn', 'apiso:OperatesOnIdentifier', 'apiso:OperatesOnName', 'apiso:Operation', 'apiso:OrganisationName', 'apiso:ParentIdentifier', 'apiso:PublicationDate', 'apiso:ResourceLanguage', 'apiso:RevisionDate', 'apiso:ServiceType', 'apiso:ServiceTypeVersion', 'apiso:Subject', 'apiso:TempExtent_begin', 'apiso:TempExtent_end', 'apiso:Title', 'apiso:TopicCategory', 'apiso:Type']]"
      ]
     },
     "execution_count": 8,
     "metadata": {},
     "output_type": "execute_result"
    }
   ],
   "source": [
    "dg_csw.get_operation_by_name('GetRecords').constraints"
   ]
  },
  {
   "cell_type": "code",
   "execution_count": 9,
   "metadata": {},
   "outputs": [],
   "source": [
    "dg_query = PropertyIsLike('csw:AnyText', '%birds%')"
   ]
  },
  {
   "cell_type": "code",
   "execution_count": 10,
   "metadata": {},
   "outputs": [
    {
     "name": "stdout",
     "output_type": "stream",
     "text": [
      "CPU times: user 83.5 ms, sys: 7.76 ms, total: 91.3 ms\n",
      "Wall time: 754 ms\n"
     ]
    }
   ],
   "source": [
    "%%time\n",
    "dg_csw.getrecords2(\n",
    "    constraints=[dg_query], \n",
    "    maxrecords=20,\n",
    "    outputschema='http://www.isotc211.org/2005/gmd'\n",
    ")"
   ]
  },
  {
   "cell_type": "code",
   "execution_count": 11,
   "metadata": {},
   "outputs": [
    {
     "data": {
      "text/plain": [
       "{'matches': 254, 'returned': 20, 'nextrecord': 21}"
      ]
     },
     "execution_count": 11,
     "metadata": {},
     "output_type": "execute_result"
    }
   ],
   "source": [
    "dg_csw.results"
   ]
  },
  {
   "cell_type": "code",
   "execution_count": 12,
   "metadata": {},
   "outputs": [
    {
     "name": "stdout",
     "output_type": "stream",
     "text": [
      "None\n",
      "USGS 7.5 Minute Topographic Maps (2003)\n",
      "This data set consists of images derived from scans of U.S.G.S. 7.5 minute quadrangle maps (Digital Raster Graphics). The images form a set of seamless tiles, 5,000 m on a side, from which the map collar information was removed. Images are GeoTIFF files in NAD83, UTM zone 18.\n",
      "None\n",
      "=======\n",
      "None\n",
      "Walk-In Hunting Access (WIHA) Fall 2008\n",
      "This shapefile represents the private lands leased by the Kansas Department of Wildlife and Parks for fall 2008 public hunting access through the Walk-In Hunting Access (WIHA) program.\n",
      "None\n",
      "=======\n",
      "None\n",
      "USGS 7.5 Minute Topographic Maps (2000)\n",
      "This data set consists of images derived from scans of U.S.G.S. 7.5 minute quadrangle maps (Digital Raster Graphics). The images form a set of seamless tiles, 5,000 m on a side, from which the map collar information was removed. Images are GeoTIFF files in NAD83, UTM zone 18.\n",
      "None\n",
      "=======\n",
      "None\n",
      "Walk-In Hunting Access (WIHA) Fall 2009\n",
      "This shapefile represents the private lands leased by the Kansas Department of Wildlife and Parks for fall 2009 public hunting access through the Walk-In Hunting Access (WIHA) program.\n",
      "None\n",
      "=======\n",
      "None\n",
      "Long-Term Ecological Research (LTER) Climate Data with Water Parameters from North Inlet Meteorological Station, North Inlet Estuary, Georgetown, South Carolina: 1982-1996.\n",
      "Meteorological data with water parameters were collected on an hourly basis from June 3, 1982 through April 29, 1996 in the North Inlet Estuary, Georgetown County, SC. Readings were taken 24 hours a day, every day of the year, except when individual probes or the entire meteorological station were down. Most sensors were scanned once per second (3600 times per hour), and hourly averages for the previous hour were generated and recorded. Three different meteorological systems were used during this period (see Supplemental Information). The first and last systems were designed to measure and transmit wind speed, wind direction, air temperature, barometric pressure, solar radiation, precipitation, water level, water temperature, and conductivity data. The temporary system, deployed from October 1989 to December 1990, was substituted for the meteorological station destroyed by Hurricane Hugo in September of 1989. It measured all of the parameters detailed above plus relative humidity, but did not measure water level, water temperature, and conductivity. NO PRECIPITATION DATA ARE CONTAINED IN THE FINAL 1982-1996 DATABASE. Data from this sensor were removed because of problems with the recording device. Rain data does exist in another database called RAINDAZE. The water level and conductivity data should be used with CAUTION!! Twenty-four hour minimum and maximum values for the meteorological data occur in the 15 ancillary data files: LTER.MET1982.24HRMAXMIN.FINAL.CSV to LTER.MET1996.24HRMAXMIN.FINAL.CSV. An additional database contains daily maximum and minimum relative humidity values recorded by the National Weather Service observing station, located near the meteorological station. See the Supplemental Information.\n",
      "None\n",
      "=======\n",
      "None\n",
      "Walk-In Hunting Access (WIHA) Fall 2011\n",
      "This shapefile represents the private lands leased by the Kansas Department of Wildlife, Parks and Tourism (KDWPT) for fall 2011 public hunting access through the Walk-In Hunting Access (WIHA) program.\n",
      "None\n",
      "=======\n",
      "None\n",
      "Breeding Bird Survey Route Locations for New York State (Shapefile : 1999)\n",
      "This data set portrays the current routes used for conducting Breeding Bird Surveys in New York State. This data set was collected using a different roads file from that available through the National Atlas of the United States.\n",
      "None\n",
      "=======\n",
      "None\n",
      "Walk-In Hunting Access (WIHA) Fall 2010\n",
      "This shapefile represents the private lands leased by the Kansas Department of Wildlife and Parks for fall 2010 public hunting access through the Walk-In Hunting Access (WIHA) program.\n",
      "None\n",
      "=======\n",
      "None\n",
      "Iowa Breed Bird Atlas 2, 2008-2012\n",
      "These are the locations of Iowa's Second Breeding Bird Atlas. Blocks are 3 by 3 miles in size. Some of the blocks are the same as those surveyed in the first BBA, some are new. Some represent 'grid blocks' (the 22 section in every other township) and some represent 'habitat blocks' (blocks containing public land with either grass, water, or forest habitat).\n",
      "None\n",
      "=======\n",
      "None\n",
      "Landscape Conservative Cooperatives for New Mexico\n",
      "Landscape conservation cooperatives (LCCs) are conservation-science partnerships between the U.S. Fish and Wildlife Service, U.S. Geological Survey (USGS), and other federal agencies, states, tribes, NGOs, universities and stakeholders within a geographically defined area. They inform resource management decisions to address national-scale stressors-including habitat fragmentation, genetic isolation, spread of invasive species, and water scarcity-all of which are accelerated by climate change.\n",
      "None\n",
      "=======\n",
      "None\n",
      "Migratory Bird Joint Ventures of New Mexico\n",
      "A joint venture is a self-directed partnership of agencies, organizations, corporations, tribes, or individuals that has formally accepted the responsibility of implementing national or international bird conservation plans within a specific geographic area or for a specific taxonomic group, and has received general acceptance in the bird conservation community for such responsibility. Federal, state, tribal, or private parties may suggest the development of new joint ventures at any time. The initiating agency or organization will coordinate with potential partners to produce a scoping document or concept plan. circulate the document for review and comment by agencies, organizations, and individuals. Based on this review, a decision as to whether or not to form a management board and develop an implementation plan will be made. submit a draft implementation plan to the Division of Bird Habitat Conservation (Division), which will coordinate the review of the plan within the Service, with the appropriate Flyway Councils (Atlantic, Mississippi, Central, and Pacific), with the national or international boards that oversee the various bird conservation initiatives (North American Waterfowl Management Plan, U.S. Shorebird Conservation Plan, North American Waterbird Conservation Plan, and Partners in Flight), and other interested parties. Based on this review, the Division will determine whether or not a recommendation for Service support of the proposed joint venture should be made to the Director.\n",
      "None\n",
      "=======\n",
      "None\n",
      "Soil Survey Geographic (SSURGO) database for Fort Defiance Area, Parts of Apache and Navajo Counties, Arizona, and McKinley and San Juan Counties, New Mexico\n",
      "This data set is a digital soil survey and generally is the most\n",
      "detailed level of soil geographic data developed by the National\n",
      "Cooperative Soil Survey. The information was prepared by digitizing\n",
      "maps, by compiling information onto a planimetric correct base\n",
      "and digitizing, or by revising digitized maps using remotely\n",
      "sensed and other information.\n",
      "\n",
      "This data set consists of georeferenced digital map data and\n",
      "computerized attribute data. The map data are in a soil survey area\n",
      "extent format and include a detailed, field verified inventory\n",
      "of soils and miscellaneous areas that normally occur in a repeatable\n",
      "pattern on the landscape and that can be cartographically shown at\n",
      "the scale mapped. A special soil features layer (point and line\n",
      "features) is optional. This layer displays the location of features\n",
      "too small to delineate at the mapping scale, but they are large\n",
      "enough and contrasting enough to significantly influence use and\n",
      "management. The soil map units are linked to attributes in the\n",
      "National Soil Information System relational database, which gives\n",
      "the proportionate extent of the component soils and their properties.\n",
      "None\n",
      "=======\n",
      "None\n",
      "High-resolution lidar data for infrastructure corridors, Tyonek Quadrangle, Alaska\n",
      "In advance of design, permitting, and construction of a pipeline to deliver North Slope natural gas to out-of-state customers and Alaska communities, the Division of Geological & Geophysical Surveys (DGGS) has acquired lidar (Light Detection and Ranging) data along proposed pipeline routes, nearby areas of infrastructure, and regions where significant geologic hazards have been identified. Lidar data will serve multiple purposes, but have primarily been collected to (1) evaluate active faulting, slope instability, thaw settlement, erosion, and other engineering constraints along proposed pipeline routes, and (2) provide a base layer for the state-federal GIS database that will be used to evaluate permit applications and construction plans. This digital surface model (mean_DSM) represents mean above-ground height of vegetation returns.\n",
      "None\n",
      "=======\n",
      "None\n",
      "High-resolution lidar data for infrastructure corridors, Chandalar Quadrangle, Alaska\n",
      "In advance of design, permitting, and construction of a pipeline to deliver North Slope natural gas to out-of-state customers and Alaska communities, the Division of Geological & Geophysical Surveys (DGGS) has acquired lidar (Light Detection and Ranging) data along proposed pipeline routes, nearby areas of infrastructure, and regions where significant geologic hazards have been identified. Lidar data will serve multiple purposes, but have primarily been collected to (1) evaluate active faulting, slope instability, thaw settlement, erosion, and other engineering constraints along proposed pipeline routes, and (2) provide a base layer for the state-federal GIS database that will be used to evaluate permit applications and construction plans. The dataset represents all classified laser returns from the lidar survey and their associated geospatial coordinates.\n",
      "None\n",
      "=======\n",
      "None\n",
      "High-resolution lidar data for infrastructure corridors, Mount Hayes Quadrangle, Alaska\n",
      "In advance of design, permitting, and construction of a pipeline to deliver North Slope natural gas to out-of-state customers and Alaska communities, the Division of Geological & Geophysical Surveys (DGGS) has acquired lidar (Light Detection and Ranging) data along proposed pipeline routes, nearby areas of infrastructure, and regions where significant geologic hazards have been identified. Lidar data will serve multiple purposes, but have primarily been collected to (1) evaluate active faulting, slope instability, thaw settlement, erosion, and other engineering constraints along proposed pipeline routes, and (2) provide a base layer for the state-federal GIS database that will be used to evaluate permit applications and construction plans. This digital surface model (mean_DSM) represents mean above-ground height of vegetation returns.\n",
      "None\n",
      "=======\n",
      "None\n",
      "High-resolution lidar data for infrastructure corridors, Philip Smith Mountains Quadrangle, Alaska\n",
      "In advance of design, permitting, and construction of a pipeline to deliver North Slope natural gas to out-of-state customers and Alaska communities, the Division of Geological & Geophysical Surveys (DGGS) has acquired lidar (light detection and ranging) data along proposed pipeline routes, nearby areas of infrastructure, and regions where significant geologic hazards have been identified. Lidar data will serve multiple purposes, but have primarily been collected to (1) evaluate active faulting, slope instability, thaw settlement, erosion, and other engineering constraints along proposed pipeline routes, and (2) provide a base layer for the state-federal GIS database that will be used to evaluate permit applications and construction plans. The digital surface model represents percent canopy cover (between 0 and 1). Cover metric was computed in Fusion (McGaughey 2007), which assesses the percentage of total first returns within each cell that were returned from the canopy. For more specifics on Fusion Gridmetric outputs see the fusion manual (page 56).\n",
      "None\n",
      "=======\n",
      "None\n",
      "High-resolution lidar data for infrastructure corridors, Healy Quadrangle, Alaska\n",
      "In advance of design, permitting, and construction of a pipeline to deliver North Slope natural gas to out-of-state customers and Alaska communities, the Division of Geological & Geophysical Surveys (DGGS) has acquired lidar (Light Detection and Ranging) data along proposed pipeline routes, nearby areas of infrastructure, and regions where significant geologic hazards have been identified. Lidar data will serve multiple purposes, but have primarily been collected to (1) evaluate active faulting, slope instability, thaw settlement, erosion, and other engineering constraints along proposed pipeline routes, and (2) provide a base layer for the state-federal GIS database that will be used to evaluate permit applications and construction plans. The highest-hit digital surface models (DSM) represent the earth's surface with all vegetation and human-made structures included.\n",
      "None\n",
      "=======\n",
      "None\n",
      "High-resolution lidar data for infrastructure corridors, Livengood Quadrangle, Alaska\n",
      "In advance of design, permitting, and construction of a pipeline to deliver North Slope natural gas to out-of-state customers and Alaska communities, the Division of Geological & Geophysical Surveys (DGGS) has acquired lidar (light detection and ranging) data along proposed pipeline routes, nearby areas of infrastructure, and regions where significant geologic hazards have been identified. Lidar data will serve multiple purposes, but have primarily been collected to (1) evaluate active faulting, slope instability, thaw settlement, erosion, and other engineering constraints along proposed pipeline routes, and (2) provide a base layer for the state-federal GIS database that will be used to evaluate permit applications and construction plans. This digital surface model represents coefficient of variation of the above ground height of vegetation returns.\n",
      "None\n",
      "=======\n",
      "None\n",
      "High-resolution lidar data for infrastructure corridors, Nabesna Quadrangle, Alaska\n",
      "In advance of design, permitting, and construction of a pipeline to deliver North Slope natural gas to out-of-state customers and Alaska communities, the Division of Geological & Geophysical Surveys (DGGS) has acquired lidar (Light Detection and Ranging) data along proposed pipeline routes, nearby areas of infrastructure, and regions where significant geologic hazards have been identified. Lidar data will serve multiple purposes, but have primarily been collected to (1) evaluate active faulting, slope instability, thaw settlement, erosion, and other engineering constraints along proposed pipeline routes, and (2) provide a base layer for the state-federal GIS database that will be used to evaluate permit applications and construction plans. The highest-hit digital surface models (DSM) represent the earth's surface with all vegetation and human-made structures included.\n",
      "None\n",
      "=======\n",
      "None\n",
      "High-resolution lidar data for infrastructure corridors, Tanana Quadrangle, Alaska\n",
      "In advance of design, permitting, and construction of a pipeline to deliver North Slope natural gas to out-of-state customers and Alaska communities, the Division of Geological & Geophysical Surveys (DGGS) has acquired lidar (Light Detection and Ranging) data along proposed pipeline routes, nearby areas of infrastructure, and regions where significant geologic hazards have been identified. Lidar data will serve multiple purposes, but have primarily been collected to (1) evaluate active faulting, slope instability, thaw settlement, erosion, and other engineering constraints along proposed pipeline routes, and (2) provide a base layer for the state-federal GIS database that will be used to evaluate permit applications and construction plans. The highest-hit digital surface models (DSM) represent the earth's surface with all vegetation and human-made structures included.\n",
      "None\n",
      "=======\n"
     ]
    }
   ],
   "source": [
    "for r in dg_csw.records:\n",
    "    print(dg_csw.records[r].dataseturi)\n",
    "    print(dg_csw.records[r].identification.title)\n",
    "    print(dg_csw.records[r].identification.abstract)\n",
    "    print(dg_csw.records[r].datetimestamp)\n",
    "\n",
    "#    for c in dg_csw.records[r].contact:\n",
    "#        print(c.name, c.role, c.organization, c.email)\n",
    "    \n",
    "#    for d in dg_csw.records[r].identification.date:\n",
    "#        print(d.date, d.type)\n",
    "        \n",
    "#    for t in dg_csw.records[r].identification.keywords:\n",
    "#        print(t.type, t.thesaurus, t.keywords)\n",
    "\n",
    "#    wms_url = next((d.url for d in dg_csw.records[r].distribution.online if d.protocol == \"OGC:WMS\"), None)\n",
    "#    print(wms_url)\n",
    "    \n",
    "    print(\"=======\")\n"
   ]
  },
  {
   "cell_type": "code",
   "execution_count": null,
   "metadata": {},
   "outputs": [],
   "source": []
  }
 ],
 "metadata": {
  "kernelspec": {
   "display_name": "Python 3",
   "language": "python",
   "name": "python3"
  },
  "language_info": {
   "codemirror_mode": {
    "name": "ipython",
    "version": 3
   },
   "file_extension": ".py",
   "mimetype": "text/x-python",
   "name": "python",
   "nbconvert_exporter": "python",
   "pygments_lexer": "ipython3",
   "version": "3.7.4"
  }
 },
 "nbformat": 4,
 "nbformat_minor": 2
}
